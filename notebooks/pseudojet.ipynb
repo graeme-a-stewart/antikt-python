{
 "cells": [
  {
   "cell_type": "code",
   "execution_count": null,
   "metadata": {},
   "outputs": [],
   "source": [
    "import pyhepmc\n",
    "import vector\n",
    "import numpy as np"
   ]
  },
  {
   "attachments": {},
   "cell_type": "markdown",
   "metadata": {},
   "source": [
    "## Read jet"
   ]
  },
  {
   "cell_type": "code",
   "execution_count": null,
   "metadata": {},
   "outputs": [],
   "source": [
    "with pyhepmc.open(\"../data/events.hepmc3/events.hepmc3\") as jets:\n",
    "    jet = jets.read()\n",
    "print(f\"Total particles in jet: {len(jet.particles)}\")\n"
   ]
  },
  {
   "cell_type": "code",
   "execution_count": null,
   "metadata": {},
   "outputs": [],
   "source": [
    "# Count final state particles here, so arrays can be setup with the correct size\n",
    "fsparticles = []\n",
    "for iparticle, particle in enumerate(jet.particles):\n",
    "    # Particle status 1 = Undecayed physical particle\n",
    "    if particle.status == 1:\n",
    "        fsparticles.append(iparticle)\n",
    "print(f\"Final state particles: {len(fsparticles)}\")\n",
    "nparticles = len(fsparticles)"
   ]
  },
  {
   "attachments": {},
   "cell_type": "markdown",
   "metadata": {},
   "source": [
    "## Construct jet particles as a numpy array of momentum vector objects"
   ]
  },
  {
   "cell_type": "code",
   "execution_count": null,
   "metadata": {},
   "outputs": [],
   "source": [
    "# Pick only final state particles and construct arrays of properties\n",
    "myPseudoJet = []\n",
    "px = np.zeros(nparticles)\n",
    "py = np.zeros(nparticles)\n",
    "pz = np.zeros(nparticles)\n",
    "E = np.zeros(nparticles)\n",
    "for iparticle, fsparticle in enumerate(fsparticles):\n",
    "    myPseudoJet.append(jet.particles[fsparticle])\n",
    "    px[iparticle] = jet.particles[fsparticle].momentum.px\n",
    "    py[iparticle] = jet.particles[fsparticle].momentum.py\n",
    "    pz[iparticle] = jet.particles[fsparticle].momentum.pz\n",
    "    E[iparticle] = jet.particles[fsparticle].momentum.e"
   ]
  },
  {
   "cell_type": "code",
   "execution_count": null,
   "metadata": {},
   "outputs": [],
   "source": [
    "particles = vector.array({\"px\": px, \"py\": py, \"pz\": pz, \"e\": E})"
   ]
  },
  {
   "cell_type": "code",
   "execution_count": null,
   "metadata": {},
   "outputs": [],
   "source": [
    "particles[0]"
   ]
  },
  {
   "cell_type": "code",
   "execution_count": null,
   "metadata": {},
   "outputs": [],
   "source": [
    "print(particles[0].pt, particles[0].rho, particles[0].tau, particles[0].mass)"
   ]
  },
  {
   "cell_type": "code",
   "execution_count": null,
   "metadata": {},
   "outputs": [],
   "source": [
    "# import pprint\n",
    "# pprint.pprint([ str(prop) for prop in dir(pj[0]) if not prop.startswith(\"_\") ])"
   ]
  },
  {
   "cell_type": "code",
   "execution_count": null,
   "metadata": {},
   "outputs": [],
   "source": [
    "print(particles[1].y, particles[1].phi, particles[1].pt, particles[1].rapidity)"
   ]
  },
  {
   "attachments": {},
   "cell_type": "markdown",
   "metadata": {},
   "source": [
    "## Make some simple plots of the original particles"
   ]
  },
  {
   "cell_type": "code",
   "execution_count": null,
   "metadata": {},
   "outputs": [],
   "source": [
    "import matplotlib.pyplot as plt"
   ]
  },
  {
   "cell_type": "code",
   "execution_count": null,
   "metadata": {},
   "outputs": [],
   "source": [
    "phi = np.zeros(len(pj))\n",
    "y = np.zeros(len(pj))\n",
    "pt = np.zeros(len(pj))\n",
    "for iparticle, particle in enumerate(particles):\n",
    "    y[iparticle] = particle.y\n",
    "    phi[iparticle] = particle.phi\n",
    "    pt[iparticle] = particle.pt"
   ]
  },
  {
   "cell_type": "code",
   "execution_count": null,
   "metadata": {},
   "outputs": [],
   "source": [
    "# for p in zip(y, phi, pt):\n",
    "#     print(p)"
   ]
  },
  {
   "cell_type": "code",
   "execution_count": null,
   "metadata": {},
   "outputs": [],
   "source": [
    "levels = np.linspace(pt.min(), pt.max(), 7)\n",
    "print(levels)"
   ]
  },
  {
   "cell_type": "code",
   "execution_count": null,
   "metadata": {},
   "outputs": [],
   "source": [
    "fig, ax = plt.subplots()\n",
    "ax.plot(y, phi, 'o')\n",
    "ax.tricontourf(y, phi, pt)\n",
    "plt.show()"
   ]
  },
  {
   "cell_type": "code",
   "execution_count": null,
   "metadata": {},
   "outputs": [],
   "source": [
    "fig, ax = plt.subplots(subplot_kw={\"projection\": \"3d\"})\n",
    "ax.scatter(y, phi, pt)\n",
    "plt.show()"
   ]
  },
  {
   "cell_type": "markdown",
   "metadata": {},
   "source": [
    "## Define distance measures"
   ]
  },
  {
   "cell_type": "code",
   "execution_count": null,
   "metadata": {},
   "outputs": [],
   "source": [
    "def delta2(pj1, pj2):\n",
    "    '''Return the geometric distance between two pseudojets'''\n",
    "    return (pj1.y - pj2.y)**2 + (pj1.phi - pj2.phi)**2"
   ]
  },
  {
   "cell_type": "code",
   "execution_count": null,
   "metadata": {},
   "outputs": [],
   "source": [
    "delta2(particles[0], particles[1])"
   ]
  },
  {
   "cell_type": "code",
   "execution_count": null,
   "metadata": {},
   "outputs": [],
   "source": [
    "def akt_distance(pj1, pj2, r2=0.16):\n",
    "    '''Return the antikt metric between two pseudojets (note the ^-2 in the momentum term)'''\n",
    "    min_momentum = min(pj1.pt**-2, pj2.pt**-2)\n",
    "    return min_momentum * delta2(pj1, pj2) / r2"
   ]
  },
  {
   "cell_type": "code",
   "execution_count": null,
   "metadata": {},
   "outputs": [],
   "source": [
    "akt_distance(particles[0], particles[1])"
   ]
  },
  {
   "cell_type": "code",
   "execution_count": null,
   "metadata": {},
   "outputs": [],
   "source": [
    "def beamline_distance(pj):\n",
    "    return pj.pt**-2"
   ]
  },
  {
   "cell_type": "code",
   "execution_count": null,
   "metadata": {},
   "outputs": [],
   "source": [
    "beamline_distance(particles[0])"
   ]
  },
  {
   "cell_type": "code",
   "execution_count": null,
   "metadata": {},
   "outputs": [],
   "source": [
    "for n, p in enumerate(particles[1:], start=1):\n",
    "    print(f\"Distance to particle {n}:\", akt_distance(particles[0], p))"
   ]
  },
  {
   "cell_type": "code",
   "execution_count": null,
   "metadata": {},
   "outputs": [],
   "source": []
  }
 ],
 "metadata": {
  "kernelspec": {
   "display_name": "antikt",
   "language": "python",
   "name": "python3"
  },
  "language_info": {
   "codemirror_mode": {
    "name": "ipython",
    "version": 3
   },
   "file_extension": ".py",
   "mimetype": "text/x-python",
   "name": "python",
   "nbconvert_exporter": "python",
   "pygments_lexer": "ipython3",
   "version": "3.11.0"
  }
 },
 "nbformat": 4,
 "nbformat_minor": 2
}
